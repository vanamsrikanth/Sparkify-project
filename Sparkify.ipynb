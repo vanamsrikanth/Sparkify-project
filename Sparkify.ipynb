{
 "cells": [
  {
   "cell_type": "markdown",
   "metadata": {},
   "source": [
    "# Sparkify Project Workspace\n",
    "This workspace contains a tiny subset (128MB) of the full dataset available (12GB). Feel free to use this workspace to build your project, or to explore a smaller subset with Spark before deploying your cluster on the cloud. Instructions for setting up your Spark cluster is included in the last lesson of the Extracurricular Spark Course content.\n",
    "\n",
    "You can follow the steps below to guide your data analysis and model building portion of this project."
   ]
  },
  {
   "cell_type": "code",
   "execution_count": 1,
   "metadata": {},
   "outputs": [],
   "source": [
    "\n",
    "# import libraries\n",
    "import os\n",
    "\n",
    "from pyspark.sql import SparkSession;\n",
    "from pyspark.sql.functions import isnan,count,when,col, concat, desc, explode, lit, min, max, split, udf, isnull;\n",
    "from pyspark.sql.types import IntegerType;\n",
    "\n",
    "from pyspark.ml.feature import RegexTokenizer, CountVectorizer,IDF, StringIndexer,VectorAssembler, Normalizer, StandardScaler;\n",
    "from pyspark.ml import Pipeline;\n",
    "from pyspark.ml.classification import LogisticRegression, RandomForestClassifier, GBTClassifier;\n",
    "from pyspark.ml.evaluation import MulticlassClassificationEvaluator;\n",
    "\n",
    "from pyspark.sql import Window\n",
    "from pyspark.sql.functions import sum as Fsum\n",
    "\n",
    "import re;\n",
    "import datetime;\n",
    "import matplotlib.pyplot as plt;\n",
    "import pandas as pd;\n",
    "import seaborn as sns;\n",
    "import numpy as np;\n",
    "from itertools import cycle, islice;"
   ]
  },
  {
   "cell_type": "code",
   "execution_count": 2,
   "metadata": {},
   "outputs": [],
   "source": [
    "# create a Spark session\n",
    "spark = SparkSession\\\n",
    "                    .builder\\\n",
    "                    .master('local')\\\n",
    "                    .appName(\"Sparkify\")\\\n",
    "                    .getOrCreate();"
   ]
  },
  {
   "cell_type": "markdown",
   "metadata": {},
   "source": [
    "# Load and Clean Dataset\n",
    "In this workspace, the mini-dataset file is `mini_sparkify_event_data.json`. Load and clean the dataset, checking for invalid or missing data - for example, records without userids or sessionids. "
   ]
  },
  {
   "cell_type": "code",
   "execution_count": 3,
   "metadata": {},
   "outputs": [
    {
     "data": {
      "text/plain": [
       "DataFrame[artist: string, auth: string, firstName: string, gender: string, itemInSession: bigint, lastName: string, length: double, level: string, location: string, method: string, page: string, registration: bigint, sessionId: bigint, song: string, status: bigint, ts: bigint, userAgent: string, userId: string]"
      ]
     },
     "execution_count": 3,
     "metadata": {},
     "output_type": "execute_result"
    }
   ],
   "source": [
    "#load data \"mini_sparkify_event_data.json\"\n",
    "df = spark.read.json('mini_sparkify_event_data.json');\n",
    "\n",
    "#see top records in dataset\n",
    "df.persist()"
   ]
  },
  {
   "cell_type": "code",
   "execution_count": 18,
   "metadata": {},
   "outputs": [
    {
     "data": {
      "text/plain": [
       "Row(artist='Martha Tilston', auth='Logged In', firstName='Colin', gender='M', itemInSession=50, lastName='Freeman', length=277.89016, level='paid', location='Bakersfield, CA', method='PUT', page='NextSong', registration=1538173362000, sessionId=29, song='Rockpools', status=200, ts=1538352117000, userAgent='Mozilla/5.0 (Windows NT 6.1; WOW64; rv:31.0) Gecko/20100101 Firefox/31.0', userId='30')"
      ]
     },
     "execution_count": 18,
     "metadata": {},
     "output_type": "execute_result"
    }
   ],
   "source": [
    "df.head()"
   ]
  },
  {
   "cell_type": "code",
   "execution_count": 31,
   "metadata": {},
   "outputs": [
    {
     "name": "stdout",
     "output_type": "stream",
     "text": [
      "[Row(artist='Martha Tilston', auth='Logged In', firstName='Colin', gender='M', itemInSession=50, lastName='Freeman', length=277.89016, level='paid', location='Bakersfield, CA', method='PUT', page='NextSong', registration=1538173362000, sessionId=29, song='Rockpools', status=200, ts=1538352117000, userAgent='Mozilla/5.0 (Windows NT 6.1; WOW64; rv:31.0) Gecko/20100101 Firefox/31.0', userId='30'), Row(artist='Five Iron Frenzy', auth='Logged In', firstName='Micah', gender='M', itemInSession=79, lastName='Long', length=236.09424, level='free', location='Boston-Cambridge-Newton, MA-NH', method='PUT', page='NextSong', registration=1538331630000, sessionId=8, song='Canada', status=200, ts=1538352180000, userAgent='\"Mozilla/5.0 (Windows NT 6.1; WOW64) AppleWebKit/537.36 (KHTML, like Gecko) Chrome/37.0.2062.103 Safari/537.36\"', userId='9'), Row(artist='Adam Lambert', auth='Logged In', firstName='Colin', gender='M', itemInSession=51, lastName='Freeman', length=282.8273, level='paid', location='Bakersfield, CA', method='PUT', page='NextSong', registration=1538173362000, sessionId=29, song='Time For Miracles', status=200, ts=1538352394000, userAgent='Mozilla/5.0 (Windows NT 6.1; WOW64; rv:31.0) Gecko/20100101 Firefox/31.0', userId='30'), Row(artist='Enigma', auth='Logged In', firstName='Micah', gender='M', itemInSession=80, lastName='Long', length=262.71302, level='free', location='Boston-Cambridge-Newton, MA-NH', method='PUT', page='NextSong', registration=1538331630000, sessionId=8, song='Knocking On Forbidden Doors', status=200, ts=1538352416000, userAgent='\"Mozilla/5.0 (Windows NT 6.1; WOW64) AppleWebKit/537.36 (KHTML, like Gecko) Chrome/37.0.2062.103 Safari/537.36\"', userId='9'), Row(artist='Daft Punk', auth='Logged In', firstName='Colin', gender='M', itemInSession=52, lastName='Freeman', length=223.60771, level='paid', location='Bakersfield, CA', method='PUT', page='NextSong', registration=1538173362000, sessionId=29, song='Harder Better Faster Stronger', status=200, ts=1538352676000, userAgent='Mozilla/5.0 (Windows NT 6.1; WOW64; rv:31.0) Gecko/20100101 Firefox/31.0', userId='30')]\n"
     ]
    }
   ],
   "source": [
    "print(df.take(5));"
   ]
  },
  {
   "cell_type": "code",
   "execution_count": 32,
   "metadata": {},
   "outputs": [
    {
     "name": "stdout",
     "output_type": "stream",
     "text": [
      "root\n",
      " |-- artist: string (nullable = true)\n",
      " |-- auth: string (nullable = true)\n",
      " |-- firstName: string (nullable = true)\n",
      " |-- gender: string (nullable = true)\n",
      " |-- itemInSession: long (nullable = true)\n",
      " |-- lastName: string (nullable = true)\n",
      " |-- length: double (nullable = true)\n",
      " |-- level: string (nullable = true)\n",
      " |-- location: string (nullable = true)\n",
      " |-- method: string (nullable = true)\n",
      " |-- page: string (nullable = true)\n",
      " |-- registration: long (nullable = true)\n",
      " |-- sessionId: long (nullable = true)\n",
      " |-- song: string (nullable = true)\n",
      " |-- status: long (nullable = true)\n",
      " |-- ts: long (nullable = true)\n",
      " |-- userAgent: string (nullable = true)\n",
      " |-- userId: string (nullable = true)\n",
      "\n"
     ]
    }
   ],
   "source": [
    "#lets look at shema of data :\n",
    "df.printSchema();"
   ]
  },
  {
   "cell_type": "code",
   "execution_count": 33,
   "metadata": {},
   "outputs": [
    {
     "name": "stdout",
     "output_type": "stream",
     "text": [
      "(286500, 18)\n"
     ]
    }
   ],
   "source": [
    "print((df.count(), len(df.columns)))"
   ]
  },
  {
   "cell_type": "code",
   "execution_count": 34,
   "metadata": {},
   "outputs": [
    {
     "name": "stdout",
     "output_type": "stream",
     "text": [
      "Number of  Rows in the dataframe:286500\n",
      "Number of  columns in the dataframe:18\n",
      "columns Present in data set in the dataframe['artist', 'auth', 'firstName', 'gender', 'itemInSession', 'lastName', 'length', 'level', 'location', 'method', 'page', 'registration', 'sessionId', 'song', 'status', 'ts', 'userAgent', 'userId']\n"
     ]
    }
   ],
   "source": [
    "print(\"Number of  Rows in the dataframe:{}\".format(df.count()));\n",
    "print(\"Number of  columns in the dataframe:{}\".format(len(df.columns)));\n",
    "print(\"columns Present in data set in the dataframe{}\".format(df.columns));"
   ]
  },
  {
   "cell_type": "code",
   "execution_count": 35,
   "metadata": {},
   "outputs": [
    {
     "data": {
      "text/html": [
       "<div>\n",
       "<style scoped>\n",
       "    .dataframe tbody tr th:only-of-type {\n",
       "        vertical-align: middle;\n",
       "    }\n",
       "\n",
       "    .dataframe tbody tr th {\n",
       "        vertical-align: top;\n",
       "    }\n",
       "\n",
       "    .dataframe thead th {\n",
       "        text-align: right;\n",
       "    }\n",
       "</style>\n",
       "<table border=\"1\" class=\"dataframe\">\n",
       "  <thead>\n",
       "    <tr style=\"text-align: right;\">\n",
       "      <th></th>\n",
       "      <th>0</th>\n",
       "      <th>1</th>\n",
       "      <th>2</th>\n",
       "      <th>3</th>\n",
       "      <th>4</th>\n",
       "    </tr>\n",
       "  </thead>\n",
       "  <tbody>\n",
       "    <tr>\n",
       "      <th>summary</th>\n",
       "      <td>count</td>\n",
       "      <td>mean</td>\n",
       "      <td>stddev</td>\n",
       "      <td>min</td>\n",
       "      <td>max</td>\n",
       "    </tr>\n",
       "    <tr>\n",
       "      <th>artist</th>\n",
       "      <td>228108</td>\n",
       "      <td>551.0852017937219</td>\n",
       "      <td>1217.7693079161374</td>\n",
       "      <td>!!!</td>\n",
       "      <td>ÃÂlafur Arnalds</td>\n",
       "    </tr>\n",
       "    <tr>\n",
       "      <th>auth</th>\n",
       "      <td>286500</td>\n",
       "      <td>None</td>\n",
       "      <td>None</td>\n",
       "      <td>Cancelled</td>\n",
       "      <td>Logged Out</td>\n",
       "    </tr>\n",
       "    <tr>\n",
       "      <th>firstName</th>\n",
       "      <td>278154</td>\n",
       "      <td>None</td>\n",
       "      <td>None</td>\n",
       "      <td>Adelaida</td>\n",
       "      <td>Zyonna</td>\n",
       "    </tr>\n",
       "    <tr>\n",
       "      <th>gender</th>\n",
       "      <td>278154</td>\n",
       "      <td>None</td>\n",
       "      <td>None</td>\n",
       "      <td>F</td>\n",
       "      <td>M</td>\n",
       "    </tr>\n",
       "    <tr>\n",
       "      <th>itemInSession</th>\n",
       "      <td>286500</td>\n",
       "      <td>114.41421291448516</td>\n",
       "      <td>129.76726201140994</td>\n",
       "      <td>0</td>\n",
       "      <td>1321</td>\n",
       "    </tr>\n",
       "    <tr>\n",
       "      <th>lastName</th>\n",
       "      <td>278154</td>\n",
       "      <td>None</td>\n",
       "      <td>None</td>\n",
       "      <td>Adams</td>\n",
       "      <td>Wright</td>\n",
       "    </tr>\n",
       "    <tr>\n",
       "      <th>length</th>\n",
       "      <td>228108</td>\n",
       "      <td>249.1171819778458</td>\n",
       "      <td>99.23517921058361</td>\n",
       "      <td>0.78322</td>\n",
       "      <td>3024.66567</td>\n",
       "    </tr>\n",
       "    <tr>\n",
       "      <th>level</th>\n",
       "      <td>286500</td>\n",
       "      <td>None</td>\n",
       "      <td>None</td>\n",
       "      <td>free</td>\n",
       "      <td>paid</td>\n",
       "    </tr>\n",
       "    <tr>\n",
       "      <th>location</th>\n",
       "      <td>278154</td>\n",
       "      <td>None</td>\n",
       "      <td>None</td>\n",
       "      <td>Albany, OR</td>\n",
       "      <td>Winston-Salem, NC</td>\n",
       "    </tr>\n",
       "    <tr>\n",
       "      <th>method</th>\n",
       "      <td>286500</td>\n",
       "      <td>None</td>\n",
       "      <td>None</td>\n",
       "      <td>GET</td>\n",
       "      <td>PUT</td>\n",
       "    </tr>\n",
       "    <tr>\n",
       "      <th>page</th>\n",
       "      <td>286500</td>\n",
       "      <td>None</td>\n",
       "      <td>None</td>\n",
       "      <td>About</td>\n",
       "      <td>Upgrade</td>\n",
       "    </tr>\n",
       "    <tr>\n",
       "      <th>registration</th>\n",
       "      <td>278154</td>\n",
       "      <td>1.5353588340844272E12</td>\n",
       "      <td>3.291321616327586E9</td>\n",
       "      <td>1521380675000</td>\n",
       "      <td>1543247354000</td>\n",
       "    </tr>\n",
       "    <tr>\n",
       "      <th>sessionId</th>\n",
       "      <td>286500</td>\n",
       "      <td>1041.526554973822</td>\n",
       "      <td>726.7762634630741</td>\n",
       "      <td>1</td>\n",
       "      <td>2474</td>\n",
       "    </tr>\n",
       "    <tr>\n",
       "      <th>song</th>\n",
       "      <td>228108</td>\n",
       "      <td>Infinity</td>\n",
       "      <td>NaN</td>\n",
       "      <td>ÃÂg ÃÂtti GrÃÂ¡a ÃÂsku</td>\n",
       "      <td>ÃÂau hafa sloppiÃÂ° undan ÃÂ¾unga myrkursins</td>\n",
       "    </tr>\n",
       "    <tr>\n",
       "      <th>status</th>\n",
       "      <td>286500</td>\n",
       "      <td>210.05459685863875</td>\n",
       "      <td>31.50507848842214</td>\n",
       "      <td>200</td>\n",
       "      <td>404</td>\n",
       "    </tr>\n",
       "    <tr>\n",
       "      <th>ts</th>\n",
       "      <td>286500</td>\n",
       "      <td>1.5409568898104834E12</td>\n",
       "      <td>1.5075439608226302E9</td>\n",
       "      <td>1538352117000</td>\n",
       "      <td>1543799476000</td>\n",
       "    </tr>\n",
       "    <tr>\n",
       "      <th>userAgent</th>\n",
       "      <td>278154</td>\n",
       "      <td>None</td>\n",
       "      <td>None</td>\n",
       "      <td>\"Mozilla/5.0 (Macintosh; Intel Mac OS X 10_10)...</td>\n",
       "      <td>Mozilla/5.0 (compatible; MSIE 9.0; Windows NT ...</td>\n",
       "    </tr>\n",
       "    <tr>\n",
       "      <th>userId</th>\n",
       "      <td>286500</td>\n",
       "      <td>59682.02278593872</td>\n",
       "      <td>109091.9499991047</td>\n",
       "      <td></td>\n",
       "      <td>99</td>\n",
       "    </tr>\n",
       "  </tbody>\n",
       "</table>\n",
       "</div>"
      ],
      "text/plain": [
       "                    0                      1                     2  \\\n",
       "summary         count                   mean                stddev   \n",
       "artist         228108      551.0852017937219    1217.7693079161374   \n",
       "auth           286500                   None                  None   \n",
       "firstName      278154                   None                  None   \n",
       "gender         278154                   None                  None   \n",
       "itemInSession  286500     114.41421291448516    129.76726201140994   \n",
       "lastName       278154                   None                  None   \n",
       "length         228108      249.1171819778458     99.23517921058361   \n",
       "level          286500                   None                  None   \n",
       "location       278154                   None                  None   \n",
       "method         286500                   None                  None   \n",
       "page           286500                   None                  None   \n",
       "registration   278154  1.5353588340844272E12   3.291321616327586E9   \n",
       "sessionId      286500      1041.526554973822     726.7762634630741   \n",
       "song           228108               Infinity                   NaN   \n",
       "status         286500     210.05459685863875     31.50507848842214   \n",
       "ts             286500  1.5409568898104834E12  1.5075439608226302E9   \n",
       "userAgent      278154                   None                  None   \n",
       "userId         286500      59682.02278593872     109091.9499991047   \n",
       "\n",
       "                                                               3  \\\n",
       "summary                                                      min   \n",
       "artist                                                       !!!   \n",
       "auth                                                   Cancelled   \n",
       "firstName                                               Adelaida   \n",
       "gender                                                         F   \n",
       "itemInSession                                                  0   \n",
       "lastName                                                   Adams   \n",
       "length                                                   0.78322   \n",
       "level                                                       free   \n",
       "location                                              Albany, OR   \n",
       "method                                                       GET   \n",
       "page                                                       About   \n",
       "registration                                       1521380675000   \n",
       "sessionId                                                      1   \n",
       "song                              \n",
       "ÃÂg ÃÂtti GrÃÂ¡a ÃÂsku   \n",
       "status                                                       200   \n",
       "ts                                                 1538352117000   \n",
       "userAgent      \"Mozilla/5.0 (Macintosh; Intel Mac OS X 10_10)...   \n",
       "userId                                                             \n",
       "\n",
       "                                                               4  \n",
       "summary                                                      max  \n",
       "artist                                         ÃÂlafur Arnalds  \n",
       "auth                                                  Logged Out  \n",
       "firstName                                                 Zyonna  \n",
       "gender                                                         M  \n",
       "itemInSession                                               1321  \n",
       "lastName                                                  Wright  \n",
       "length                                                3024.66567  \n",
       "level                                                       paid  \n",
       "location                                       Winston-Salem, NC  \n",
       "method                                                       PUT  \n",
       "page                                                     Upgrade  \n",
       "registration                                       1543247354000  \n",
       "sessionId                                                   2474  \n",
       "song            ÃÂau hafa sloppiÃÂ° undan ÃÂ¾unga myrkursins  \n",
       "status                                                       404  \n",
       "ts                                                 1543799476000  \n",
       "userAgent      Mozilla/5.0 (compatible; MSIE 9.0; Windows NT ...  \n",
       "userId                                                        99  "
      ]
     },
     "execution_count": 35,
     "metadata": {},
     "output_type": "execute_result"
    }
   ],
   "source": [
    "#discribing all the columns in dataframe\n",
    "df.describe().toPandas().transpose()"
   ]
  },
  {
   "cell_type": "markdown",
   "metadata": {},
   "source": [
    "First, we clean our dataset, checking for invalid or missing data. For example, records without userids or session id's"
   ]
  },
  {
   "cell_type": "code",
   "execution_count": 36,
   "metadata": {},
   "outputs": [
    {
     "data": {
      "text/plain": [
       "artist           58392\n",
       "auth                 0\n",
       "firstName         8346\n",
       "gender            8346\n",
       "itemInSession        0\n",
       "lastName          8346\n",
       "length           58392\n",
       "level                0\n",
       "location          8346\n",
       "method               0\n",
       "page                 0\n",
       "registration      8346\n",
       "sessionId            0\n",
       "song             58392\n",
       "status               0\n",
       "ts                   0\n",
       "userAgent         8346\n",
       "userId               0\n",
       "dtype: int64"
      ]
     },
     "execution_count": 36,
     "metadata": {},
     "output_type": "execute_result"
    }
   ],
   "source": [
    "df.toPandas().isnull().sum()"
   ]
  },
  {
   "cell_type": "code",
   "execution_count": 37,
   "metadata": {},
   "outputs": [
    {
     "data": {
      "text/plain": [
       "225252"
      ]
     },
     "execution_count": 37,
     "metadata": {},
     "output_type": "execute_result"
    }
   ],
   "source": [
    "df.toPandas().isnull().sum().sum()"
   ]
  },
  {
   "cell_type": "code",
   "execution_count": 4,
   "metadata": {},
   "outputs": [],
   "source": [
    "# drop NAs there is no null values in columns in userId and sessionId\n",
    "df = df.dropna(how = 'any', subset = ['userId', 'sessionId'])"
   ]
  },
  {
   "cell_type": "code",
   "execution_count": 5,
   "metadata": {},
   "outputs": [
    {
     "name": "stdout",
     "output_type": "stream",
     "text": [
      "+------+\n",
      "|userId|\n",
      "+------+\n",
      "|      |\n",
      "|    10|\n",
      "|   100|\n",
      "|100001|\n",
      "|100002|\n",
      "|100003|\n",
      "|100004|\n",
      "|100005|\n",
      "|100006|\n",
      "|100007|\n",
      "+------+\n",
      "only showing top 10 rows\n",
      "\n"
     ]
    }
   ],
   "source": [
    "# inspect 'userId' column\n",
    "df.select('userId').dropDuplicates().sort('userId').show(10)\n"
   ]
  },
  {
   "cell_type": "code",
   "execution_count": 5,
   "metadata": {},
   "outputs": [],
   "source": [
    "# drop empty strings\n",
    "df = df.filter(df['userId'] != '')"
   ]
  },
  {
   "cell_type": "markdown",
   "metadata": {},
   "source": [
    "# Exploratory Data Analysis\n",
    "When you're working with the full dataset, perform EDA by loading a small subset of the data and doing basic manipulations within Spark. In this workspace, you are already provided a small subset of data you can explore.\n",
    "\n",
    "### Define Churn\n",
    "\n",
    "Once you've done some preliminary analysis, create a column `Churn` to use as the label for your model. I suggest using the `Cancellation Confirmation` events to define your churn, which happen for both paid and free users. As a bonus task, you can also look into the `Downgrade` events.\n",
    "\n",
    "### Explore Data\n",
    "Once you've defined churn, perform some exploratory data analysis to observe the behavior for users who stayed vs users who churned. You can start by exploring aggregates on these two groups of users, observing how much of a specific action they experienced per a certain time unit or number of songs played."
   ]
  },
  {
   "cell_type": "markdown",
   "metadata": {},
   "source": [
    "## Some preliminary Exploratory Data analysis"
   ]
  },
  {
   "cell_type": "markdown",
   "metadata": {},
   "source": [
    "##### Let's look into Page Feature which has \"Cancellation Confirmation\" variable from which we can derive our Target Variable ie. churn or not?"
   ]
  },
  {
   "cell_type": "code",
   "execution_count": 21,
   "metadata": {},
   "outputs": [
    {
     "name": "stdout",
     "output_type": "stream",
     "text": [
      "+--------------------+-----------+\n",
      "|                page|count(page)|\n",
      "+--------------------+-----------+\n",
      "|              Cancel|         52|\n",
      "|    Submit Downgrade|         63|\n",
      "|         Thumbs Down|       2546|\n",
      "|                Home|      10082|\n",
      "|           Downgrade|       2055|\n",
      "|         Roll Advert|       3933|\n",
      "|              Logout|       3226|\n",
      "|       Save Settings|        310|\n",
      "|Cancellation Conf...|         52|\n",
      "|               About|        495|\n",
      "|            Settings|       1514|\n",
      "|     Add to Playlist|       6526|\n",
      "|          Add Friend|       4277|\n",
      "|            NextSong|     228108|\n",
      "|           Thumbs Up|      12551|\n",
      "|                Help|       1454|\n",
      "|             Upgrade|        499|\n",
      "|               Error|        252|\n",
      "|      Submit Upgrade|        159|\n",
      "+--------------------+-----------+\n",
      "\n"
     ]
    }
   ],
   "source": [
    "df.select('page','UserId').groupby('page').agg({'page':'count'}).select('page','count(page)').show()"
   ]
  },
  {
   "cell_type": "markdown",
   "metadata": {},
   "source": [
    "## Observations:\n",
    "\n",
    "This gives us already a good indicator for the churn definition: we could define churned users as those users who have visited the ‘Cancelation Confirmation’ page. Further, we could take the ‘Submit Downgrade’ column into account."
   ]
  },
  {
   "cell_type": "markdown",
   "metadata": {},
   "source": [
    "### Define Churn\n",
    "\n",
    "Let’s start with the definition of an indicator if a user has visited the ‘Cancel Confirmation’ page:"
   ]
  },
  {
   "cell_type": "markdown",
   "metadata": {},
   "source": [
    "Next, let us define a column churn by using a user defined function which flags all churned user with a 1 and 0 oterwise:"
   ]
  },
  {
   "cell_type": "code",
   "execution_count": 6,
   "metadata": {},
   "outputs": [],
   "source": [
    "# Churn is a label for user who cancelled\n",
    "# Define a flag function\n",
    "flag_cancelation_event = udf(lambda x: 1 if x == \"Cancellation Confirmation\" else 0, IntegerType())\n",
    "# apply to the dataframe\n",
    "df = df.withColumn(\"churn\", flag_cancelation_event(\"page\"))\n",
    "#Define window bounds\n",
    "windowval = Window.partitionBy(\"userId\").rangeBetween(Window.unboundedPreceding, Window.unboundedFollowing)\n",
    "# Applying the window\n",
    "df = df.withColumn(\"churn\", Fsum(\"churn\").over(windowval))"
   ]
  },
  {
   "cell_type": "markdown",
   "metadata": {},
   "source": [
    "##### I'm creating a temp view from dataframe df,so that we can use sparkSQL for quick easy analysis by using sql queries."
   ]
  },
  {
   "cell_type": "code",
   "execution_count": 7,
   "metadata": {},
   "outputs": [],
   "source": [
    "#creating a temp view from dataframe df,so that we can use sparkSQL for quick easy analysis\n",
    "df.createOrReplaceTempView('data');"
   ]
  },
  {
   "cell_type": "markdown",
   "metadata": {},
   "source": [
    "\n",
    "###### Let's check how many churned and non-churned user we have in the dataset:"
   ]
  },
  {
   "cell_type": "code",
   "execution_count": 33,
   "metadata": {},
   "outputs": [
    {
     "name": "stdout",
     "output_type": "stream",
     "text": [
      "+-----+----------------------+\n",
      "|churn|count(DISTINCT userId)|\n",
      "+-----+----------------------+\n",
      "|    0|                   173|\n",
      "|    1|                    52|\n",
      "+-----+----------------------+\n",
      "\n"
     ]
    }
   ],
   "source": [
    "spark.sql(\"\"\"\n",
    "          SELECT\n",
    "              churn,\n",
    "              count(distinct userId)\n",
    "            FROM\n",
    "                data\n",
    "            GROUP BY\n",
    "                churn\n",
    "            \"\"\").show()"
   ]
  },
  {
   "cell_type": "code",
   "execution_count": 34,
   "metadata": {},
   "outputs": [
    {
     "name": "stdout",
     "output_type": "stream",
     "text": [
      "+-------------------+\n",
      "|count_of_Uniq_users|\n",
      "+-------------------+\n",
      "|                225|\n",
      "+-------------------+\n",
      "\n"
     ]
    }
   ],
   "source": [
    "spark.sql('SELECT COUNT(DISTINCT userId) As count_of_Uniq_users  FROM data').show()"
   ]
  },
  {
   "cell_type": "code",
   "execution_count": 35,
   "metadata": {},
   "outputs": [
    {
     "data": {
      "image/png": "[encoded data removed]",
      "text/plain": [
       "<matplotlib.figure.Figure at 0x7fb3cabfbbe0>"
      ]
     },
     "metadata": {
      "needs_background": "light"
     },
     "output_type": "display_data"
    }
   ],
   "source": [
    "df_vs_class=spark.sql(\"select churn,count(distinct(userId)) as Uniq_User_Count from data group by churn\").toPandas()\n",
    "plt.title(\"Distribution of Target Variable Churn\")\n",
    "sns.barplot(x=\"churn\", y=\"Uniq_User_Count\", data=df_vs_class,palette=\"muted\")\n",
    "plt.show();"
   ]
  },
  {
   "cell_type": "markdown",
   "metadata": {},
   "source": [
    "\n",
    "\n",
    "# Taking the bonus task challange and checking whether \"Submit Downgrade\" will qualify to define Churn or not."
   ]
  },
  {
   "cell_type": "code",
   "execution_count": 8,
   "metadata": {},
   "outputs": [],
   "source": [
    "user_with_downgrade = spark.sql(\"select distinct userId from data where page = 'Submit Downgrade'\")\n",
    "user_with_downgrade = user_with_downgrade.toPandas()['userId'].values"
   ]
  },
  {
   "cell_type": "code",
   "execution_count": 9,
   "metadata": {},
   "outputs": [
    {
     "data": {
      "text/plain": [
       "<function __main__.<lambda>(user)>"
      ]
     },
     "execution_count": 9,
     "metadata": {},
     "output_type": "execute_result"
    }
   ],
   "source": [
    "has_sub_downgrade = udf(lambda user: 1 if user in user_with_downgrade else 0, IntegerType())\n",
    "spark.udf.register('has_sub_downgrade', has_sub_downgrade)"
   ]
  },
  {
   "cell_type": "code",
   "execution_count": 10,
   "metadata": {},
   "outputs": [],
   "source": [
    "data_1 = spark.sql(\"\"\"\n",
    "    SELECT * ,\n",
    "        has_sub_downgrade(userId) as hasSubDowngrade\n",
    "    FROM\n",
    "        data\n",
    "    \"\"\")"
   ]
  },
  {
   "cell_type": "code",
   "execution_count": 11,
   "metadata": {},
   "outputs": [],
   "source": [
    "data_1.createOrReplaceTempView('data_1')"
   ]
  },
  {
   "cell_type": "code",
   "execution_count": 12,
   "metadata": {},
   "outputs": [],
   "source": [
    "feature_downgrade = spark.sql(\"\"\"\n",
    "    SELECT\n",
    "        DISTINCT userId,\n",
    "        hasSubDowngrade,\n",
    "        churn\n",
    "    FROM\n",
    "        data_1\n",
    "    \"\"\")"
   ]
  },
  {
   "cell_type": "code",
   "execution_count": 41,
   "metadata": {},
   "outputs": [],
   "source": [
    "feature_downgrade.createOrReplaceTempView('feature_downgrade_tbl')"
   ]
  },
  {
   "cell_type": "code",
   "execution_count": 42,
   "metadata": {},
   "outputs": [
    {
     "name": "stdout",
     "output_type": "stream",
     "text": [
      "+-----+----------------------------------+\n",
      "|churn|difference_in_submitting_downgrade|\n",
      "+-----+----------------------------------+\n",
      "|    0|               0.23121387283236994|\n",
      "|    1|               0.17307692307692307|\n",
      "+-----+----------------------------------+\n",
      "\n"
     ]
    }
   ],
   "source": [
    "spark.sql(\"select churn, sum(hasSubDowngrade)/count(distinct userId) As difference_in_submitting_downgrade from feature_downgrade_tbl group by churn\").show()"
   ]
  },
  {
   "cell_type": "markdown",
   "metadata": {},
   "source": [
    "\n",
    "As we can see, there is basically no (major) difference in submitting a downgrade for churned and non-churned users. Interestingly, non-churned users are submitting downgrades more frequently. As a result, we plan to not to include the submit downgrade indicator as a feature.\n",
    "\n",
    "\n",
    "##### By taking above statement in to the consideration,  we used only \"Cancellation Confirmation\" as feature to define Churn but not \"submit downgrade\""
   ]
  },
  {
   "cell_type": "markdown",
   "metadata": {},
   "source": [
    "# Feature Engineering\n",
    "Once you've familiarized yourself with the data, build out the features you find promising to train your model on. To work with the full dataset, you can follow the following steps.\n",
    "- Write a script to extract the necessary features from the smaller subset of data\n",
    "- Ensure that your script is scalable, using the best practices discussed in Lesson 3\n",
    "- Try your script on the full data set, debugging your script if necessary\n",
    "\n",
    "If you are working in the classroom workspace, you can just extract features based on the small subset of data contained here. Be sure to transfer over this work to the larger dataset when you work on your Spark cluster."
   ]
  },
  {
   "cell_type": "markdown",
   "metadata": {},
   "source": [
    "###### For now we will derive feature which we think mostly good predicter of target ie. churn and will use those feature to test/train our model"
   ]
  },
  {
   "cell_type": "markdown",
   "metadata": {},
   "source": [
    "### Feature 1:  Number of Added Friends"
   ]
  },
  {
   "cell_type": "markdown",
   "metadata": {},
   "source": [
    "I am Assuming that the non-churn people add their friends frequenty. \n",
    "\n",
    "Lets check whether my assumption is correct or not"
   ]
  },
  {
   "cell_type": "code",
   "execution_count": 12,
   "metadata": {},
   "outputs": [
    {
     "name": "stdout",
     "output_type": "stream",
     "text": [
      "+-----+------------------+\n",
      "|churn|           Freinds|\n",
      "+-----+------------------+\n",
      "|    0| 22.47530864197531|\n",
      "|    1|14.454545454545455|\n",
      "+-----+------------------+\n",
      "\n"
     ]
    }
   ],
   "source": [
    "spark.sql(\"SELECT churn,count(1)/count(DISTINCT userId) AS Freinds FROM data_1\\\n",
    "            WHERE page = 'Add Friend' GROUP BY churn\").show();\n",
    "Freinds_vs=spark.sql(\"SELECT churn,count(1)/count(DISTINCT userId) AS Freinds FROM data_1\\\n",
    "            WHERE page = 'Add Friend' GROUP BY churn\").toPandas();\n",
    "\n",
    "feature_friends = spark.sql(\"SELECT DISTINCT(userId),count(1) AS Friends FROM data_1\\\n",
    "        WHERE page = 'Add Friend' GROUP BY userId\");\n",
    "\n",
    "feature_friends.createOrReplaceTempView('feature_friends');"
   ]
  },
  {
   "cell_type": "markdown",
   "metadata": {},
   "source": [
    "### Visualization : Feature Add_Friends"
   ]
  },
  {
   "cell_type": "code",
   "execution_count": 99,
   "metadata": {},
   "outputs": [
    {
     "data": {
      "image/png": "[encoded data removed]",
      "text/plain": [
       "<matplotlib.figure.Figure at 0x7fb3cae19ba8>"
      ]
     },
     "metadata": {
      "needs_background": "light"
     },
     "output_type": "display_data"
    }
   ],
   "source": [
    "plt.title(\"Distribution of feature_friends vs Target Churn\");\n",
    "sns.barplot(x=\"churn\", y=\"Freinds\", data=Freinds_vs);\n",
    "plt.show();"
   ]
  },
  {
   "cell_type": "markdown",
   "metadata": {},
   "source": [
    "We can see that non-churned users indeed add friends more often. Hence we include that as a feature:"
   ]
  },
  {
   "cell_type": "markdown",
   "metadata": {},
   "source": [
    "### Feature 2:  Playlist\n",
    "\n",
    "users who add more Playlist mostly not going to churn or they are going to churn? lets check?"
   ]
  },
  {
   "cell_type": "code",
   "execution_count": 13,
   "metadata": {},
   "outputs": [
    {
     "name": "stdout",
     "output_type": "stream",
     "text": [
      "+-----+-----------------+\n",
      "|churn|         Playlist|\n",
      "+-----+-----------------+\n",
      "|    0|33.26060606060606|\n",
      "|    1|            20.76|\n",
      "+-----+-----------------+\n",
      "\n"
     ]
    }
   ],
   "source": [
    "spark.sql(\"SELECT churn,count(1)/count(DISTINCT userId)  AS Playlist FROM data_1\\\n",
    "                        WHERE page ='Add to Playlist' GROUP BY churn\").show();\n",
    "\n",
    "Playlist_vs=spark.sql(\"SELECT churn,count(1)/count(DISTINCT userId)  AS Playlist FROM data_1\\\n",
    "                        WHERE page ='Add to Playlist' GROUP BY churn\").toPandas();\n",
    "\n",
    "feature_Playlist=spark.sql(\"SELECT DISTINCT(userId),count(1)/count(DISTINCT userId) AS Playlist FROM data_1\\\n",
    "            WHERE page ='Add to Playlist' GROUP BY userId\");\n",
    "\n",
    "\n",
    "feature_Playlist.createOrReplaceTempView('feature_add_Playlist');"
   ]
  },
  {
   "cell_type": "markdown",
   "metadata": {},
   "source": [
    "## Visualization plot: feature_Playlist"
   ]
  },
  {
   "cell_type": "code",
   "execution_count": 51,
   "metadata": {},
   "outputs": [
    {
     "data": {
      "image/png": "[encoded data removed]",
      "text/plain": [
       "<matplotlib.figure.Figure at 0x7fb3c4755358>"
      ]
     },
     "metadata": {
      "needs_background": "light"
     },
     "output_type": "display_data"
    }
   ],
   "source": [
    "plt.title(\"Distribution of feature_Playlist w.r.t Target Churn\");\n",
    "sns.barplot(x=\"churn\", y=\"Playlist\", data=Playlist_vs,palette=\"muted\");\n",
    "plt.show();"
   ]
  },
  {
   "cell_type": "markdown",
   "metadata": {},
   "source": [
    "\n",
    "Our assumption was right if he has less playlist in his app then is about to churn . we will consider this feature in our model."
   ]
  },
  {
   "cell_type": "markdown",
   "metadata": {},
   "source": [
    "### Feature 3:  Usage_time \n",
    "\n",
    "\n",
    "We can see here usage time is more for user who will not going to churn vs who is going to chur . so check and add this feature in our model."
   ]
  },
  {
   "cell_type": "code",
   "execution_count": 14,
   "metadata": {},
   "outputs": [
    {
     "name": "stdout",
     "output_type": "stream",
     "text": [
      "+-----+------------------+\n",
      "|churn|         usageTime|\n",
      "+-----+------------------+\n",
      "|    0|276166.93746780336|\n",
      "|    1| 174014.2685513462|\n",
      "+-----+------------------+\n",
      "\n"
     ]
    }
   ],
   "source": [
    "spark.sql(\"SELECT churn,\\\n",
    "          sum(length)/count(distinct userId)  \\\n",
    "          AS usageTime FROM data_1\\\n",
    "          WHERE page = 'NextSong' GROUP BY  churn\").show();\n",
    "\n",
    "usage_time_vs=spark.sql(\"SELECT churn,sum(length)/count(distinct userId) AS usageTime FROM data_1\\\n",
    "                        WHERE page = 'NextSong' GROUP BY  churn\").toPandas();\n",
    "\n",
    "feature_usage_time=spark.sql(\"SELECT DISTINCT(userId),sum(nvl(length, 0)) AS usageTime FROM data_1\\\n",
    "                              WHERE page = 'NextSong' GROUP BY userId\");\n",
    "\n",
    "feature_usage_time.createOrReplaceTempView('feature_usage_time');"
   ]
  },
  {
   "cell_type": "markdown",
   "metadata": {},
   "source": [
    "### Visualization: for feature usage_time"
   ]
  },
  {
   "cell_type": "code",
   "execution_count": 53,
   "metadata": {},
   "outputs": [
    {
     "data": {
      "image/png": "[encoded data removed]",
      "text/plain": [
       "<matplotlib.figure.Figure at 0x7fb3c42e1550>"
      ]
     },
     "metadata": {
      "needs_background": "light"
     },
     "output_type": "display_data"
    }
   ],
   "source": [
    "\n",
    "plt.title(\"Distribution of feature_usage_time vs Target Churn\");\n",
    "sns.barplot(x=\"churn\", y=\"usageTime\", data=usage_time_vs,palette=\"muted\");\n",
    "plt.show();\n"
   ]
  },
  {
   "cell_type": "markdown",
   "metadata": {},
   "source": [
    "### Feature 4: number of Downgrades\n",
    "\n",
    "\n",
    "this feature also looks singficant we will add this in our model."
   ]
  },
  {
   "cell_type": "code",
   "execution_count": 15,
   "metadata": {},
   "outputs": [
    {
     "name": "stdout",
     "output_type": "stream",
     "text": [
      "+-----+------------------+\n",
      "|churn|         Downgrade|\n",
      "+-----+------------------+\n",
      "|    0|14.436974789915967|\n",
      "|    1| 9.628571428571428|\n",
      "+-----+------------------+\n",
      "\n"
     ]
    }
   ],
   "source": [
    "spark.sql(\"SELECT churn,count(1)/count(DISTINCT userId) \\\n",
    "    AS Downgrade FROM data_1 \\\n",
    "    WHERE page ='Downgrade' GROUP BY churn\").show();\n",
    "Downgrade_vs=spark.sql(\"SELECT churn,count(1)/count(DISTINCT userId) \\\n",
    "    AS Downgrade FROM data_1 \\\n",
    "    WHERE page ='Downgrade' GROUP BY churn\").toPandas();\n",
    "\n",
    "feature_Downgrade=spark.sql(\"SELECT DISTINCT(userId),count(1)/count(DISTINCT userId) AS Downgrade FROM data_1\\\n",
    "                        WHERE page ='Downgrade' GROUP BY userId\");\n",
    "\n",
    "feature_Downgrade.createOrReplaceTempView('feature_Downgrade');"
   ]
  },
  {
   "cell_type": "markdown",
   "metadata": {},
   "source": [
    "### Visualization :  For feature Downgrade"
   ]
  },
  {
   "cell_type": "code",
   "execution_count": 55,
   "metadata": {},
   "outputs": [
    {
     "data": {
      "image/png": "[encoded data removed]",
      "text/plain": [
       "<matplotlib.figure.Figure at 0x7fb3c3bc8cf8>"
      ]
     },
     "metadata": {
      "needs_background": "light"
     },
     "output_type": "display_data"
    }
   ],
   "source": [
    "plt.title(\"Distribution of feature_Downgrade vs Target Churn\");\n",
    "sns.barplot(x=\"churn\", y=\"Downgrade\", data=Downgrade_vs,palette=\"muted\");\n",
    "plt.show();"
   ]
  },
  {
   "cell_type": "markdown",
   "metadata": {},
   "source": [
    "### Feature 5: Gender\n",
    "\n",
    "Let's see how Gender impacting the churn."
   ]
  },
  {
   "cell_type": "code",
   "execution_count": 16,
   "metadata": {},
   "outputs": [
    {
     "name": "stdout",
     "output_type": "stream",
     "text": [
      "+-----+------+------------------+\n",
      "|churn|gender|        gender_cnt|\n",
      "+-----+------+------------------+\n",
      "|    0|     F|1612.0238095238096|\n",
      "|    1|     M|             803.0|\n",
      "|    1|     F|             958.4|\n",
      "|    0|     M|1099.7752808988764|\n",
      "+-----+------+------------------+\n",
      "\n",
      "+------------+----------------------+\n",
      "|gender_dummy|count(DISTINCT userId)|\n",
      "+------------+----------------------+\n",
      "|           1|                   121|\n",
      "|           0|                   104|\n",
      "+------------+----------------------+\n",
      "\n"
     ]
    }
   ],
   "source": [
    "spark.sql(\"SELECT churn,gender,count(1)/count(DISTINCT userId) gender_cnt FROM data_1 GROUP BY churn,gender\").show();\n",
    "\n",
    "gender_vs=spark.sql(\"SELECT churn,gender,count(1)/count(DISTINCT userId) gender_cnt FROM data_1 GROUP BY churn,gender\").toPandas();\n",
    "\n",
    "feature_gender = spark.sql(\"SELECT DISTINCT(userId),CASE when gender='M' then 1 \\\n",
    "                            when gender='F' then 0 else 2 END AS gender_dummy FROM data_1\");\n",
    " \n",
    "feature_gender.createOrReplaceTempView('feature_gender');\n",
    "spark.sql(\"select gender_dummy,count(DISTINCT(userId)) from feature_gender group by gender_dummy\").show()"
   ]
  },
  {
   "cell_type": "markdown",
   "metadata": {},
   "source": [
    "### Visualization : For feature gender"
   ]
  },
  {
   "cell_type": "code",
   "execution_count": 59,
   "metadata": {},
   "outputs": [
    {
     "data": {
      "image/png": "[encoded data removed]",
      "text/plain": [
       "<matplotlib.figure.Figure at 0x7fb3c284c630>"
      ]
     },
     "metadata": {
      "needs_background": "light"
     },
     "output_type": "display_data"
    }
   ],
   "source": [
    "plt.title(\"Distribution of feature_gender vs Target Churn\");\n",
    "sns.barplot(x=\"churn\", y=\"gender_cnt\", hue='gender',data=gender_vs);\n",
    "plt.show();"
   ]
  },
  {
   "cell_type": "markdown",
   "metadata": {},
   "source": [
    "### Feature 6: avg sessions\n",
    "\n",
    "In case if customer using most of the times then,  is not goint to churn so we will add this feature in our model"
   ]
  },
  {
   "cell_type": "code",
   "execution_count": 17,
   "metadata": {},
   "outputs": [
    {
     "name": "stdout",
     "output_type": "stream",
     "text": [
      "+-----+------------------+\n",
      "|churn|   avg_no_sessions|\n",
      "+-----+------------------+\n",
      "|    0|1198.2928909952607|\n",
      "|    1| 559.4786324786324|\n",
      "+-----+------------------+\n",
      "\n"
     ]
    }
   ],
   "source": [
    "spark.sql(\"SELECT churn,avg(distinct sessionId) \\\n",
    "    AS avg_no_sessions FROM data_1 group by churn\").show();\n",
    "\n",
    "avg_no_sessions_vs=spark.sql(\"SELECT churn,avg(distinct sessionId) AS avg_no_sessions \\\n",
    "                             FROM data_1 group by churn\").toPandas();\n",
    "\n",
    "feature_avg_no_sessions = spark.sql(\"SELECT DISTINCT(userId),avg(distinct sessionId) AS avg_no_sessions FROM data_1 group\\\n",
    "                            by userId\");\n",
    "\n",
    "feature_avg_no_sessions.createOrReplaceTempView('feature_avg_no_sessions');"
   ]
  },
  {
   "cell_type": "markdown",
   "metadata": {},
   "source": [
    "\n",
    "### Visualization : For feature avg_no_sessions"
   ]
  },
  {
   "cell_type": "code",
   "execution_count": 61,
   "metadata": {},
   "outputs": [
    {
     "data": {
      "image/png": "[encoded data removed]",
      "text/plain": [
       "<matplotlib.figure.Figure at 0x7fb3c402e518>"
      ]
     },
     "metadata": {
      "needs_background": "light"
     },
     "output_type": "display_data"
    }
   ],
   "source": [
    "plt.title(\"Distribution of feature_avg_no_sessions w.r.t Target [Churn]\");\n",
    "sns.barplot(x=\"churn\", y=\"avg_no_sessions\", data=avg_no_sessions_vs);\n",
    "plt.show();"
   ]
  },
  {
   "cell_type": "markdown",
   "metadata": {},
   "source": [
    "### Feature 7: Level Paid\n",
    "\n",
    "Paid users won't prefer to churn, Let's see"
   ]
  },
  {
   "cell_type": "code",
   "execution_count": 18,
   "metadata": {},
   "outputs": [
    {
     "name": "stdout",
     "output_type": "stream",
     "text": [
      "+-----+------------------+\n",
      "|churn|        level_paid|\n",
      "+-----+------------------+\n",
      "|    0|1472.5348837209303|\n",
      "|    1| 902.1111111111111|\n",
      "+-----+------------------+\n",
      "\n"
     ]
    }
   ],
   "source": [
    "spark.sql(\"SELECT churn,count(1)/count(DISTINCT userId) AS level_paid \\\n",
    "    FROM data_1 WHERE level = 'paid' \\\n",
    "    GROUP BY churn\").show();\n",
    "\n",
    "level_paid_vs=spark.sql(\"SELECT churn,count(1)/count(DISTINCT userId) AS level_paid \\\n",
    "    FROM data_1 WHERE level = 'paid' GROUP BY churn\").toPandas();\n",
    "\n",
    "feature_level_paid = spark.sql(\"SELECT DISTINCT(userId),count(1)/count(DISTINCT userId) AS level_paid FROM data_1\\\n",
    "                    WHERE level = 'paid' GROUP BY userId\");\n",
    "\n",
    "feature_level_paid.createOrReplaceTempView('feature_level_paid');"
   ]
  },
  {
   "cell_type": "markdown",
   "metadata": {},
   "source": [
    "\n",
    "### Visualization :  For feature level_paid"
   ]
  },
  {
   "cell_type": "code",
   "execution_count": 64,
   "metadata": {},
   "outputs": [
    {
     "data": {
      "image/png": "[encoded data removed]",
      "text/plain": [
       "<matplotlib.figure.Figure at 0x7fb3d0ca60f0>"
      ]
     },
     "metadata": {
      "needs_background": "light"
     },
     "output_type": "display_data"
    }
   ],
   "source": [
    "plt.title(\"Distribution of feature_level_paid w.r.t Target [Churn]\");\n",
    "sns.barplot(x=\"churn\", y=\"level_paid\", data=level_paid_vs,palette=\"muted\");\n",
    "plt.show();"
   ]
  },
  {
   "cell_type": "markdown",
   "metadata": {},
   "source": [
    "### Feature 8: Level Free"
   ]
  },
  {
   "cell_type": "code",
   "execution_count": 19,
   "metadata": {},
   "outputs": [
    {
     "name": "stdout",
     "output_type": "stream",
     "text": [
      "+-----+------------------+\n",
      "|churn|        level_free|\n",
      "+-----+------------------+\n",
      "|    0| 290.8255033557047|\n",
      "|    1|269.30434782608694|\n",
      "+-----+------------------+\n",
      "\n"
     ]
    }
   ],
   "source": [
    "spark.sql(\"SELECT churn,count(1)/count(DISTINCT userId) AS level_free FROM data_1 WHERE level = 'free' GROUP BY churn\").show();\n",
    "\n",
    "level_free_vs=spark.sql(\"SELECT churn,count(1)/count(DISTINCT userId) AS level_free FROM data_1 WHERE level = 'free' GROUP BY churn\").toPandas();\n",
    "\n",
    "feature_level_free = spark.sql(\"SELECT DISTINCT(userId),count(1)/count(DISTINCT userId) AS level_free FROM data_1\\\n",
    "                    WHERE level = 'free' GROUP BY userId\");\n",
    "\n",
    "feature_level_free.createOrReplaceTempView('feature_level_free');"
   ]
  },
  {
   "cell_type": "markdown",
   "metadata": {},
   "source": [
    "### Visualization : For feature level_free"
   ]
  },
  {
   "cell_type": "code",
   "execution_count": 70,
   "metadata": {},
   "outputs": [
    {
     "data": {
      "image/png": "[encoded data removed]",
      "text/plain": [
       "<matplotlib.figure.Figure at 0x7fb3cf41d7f0>"
      ]
     },
     "metadata": {
      "needs_background": "light"
     },
     "output_type": "display_data"
    }
   ],
   "source": [
    "plt.title(\"Distribution of feature_level_free w.r.t Target [Churn]\");\n",
    "sns.barplot(x=\"churn\", y=\"level_free\", data=level_free_vs);\n",
    "plt.show();"
   ]
  },
  {
   "cell_type": "markdown",
   "metadata": {},
   "source": [
    "### Feature 9: Thumps up"
   ]
  },
  {
   "cell_type": "code",
   "execution_count": 20,
   "metadata": {},
   "outputs": [
    {
     "name": "stdout",
     "output_type": "stream",
     "text": [
      "+-----+-----------------+\n",
      "|churn|       n_ThumpsUp|\n",
      "+-----+-----------------+\n",
      "|    0|62.89411764705882|\n",
      "|    1|            37.18|\n",
      "+-----+-----------------+\n",
      "\n"
     ]
    }
   ],
   "source": [
    "spark.sql(\"SELECT churn,count(1)/count(DISTINCT userId) as n_ThumpsUp \\\n",
    "    FROM data_1 WHERE page = 'Thumbs Up' GROUP BY churn\").show()\n",
    "\n",
    "feature_thumps_up_vs= spark.sql(\"SELECT churn, count(1)/count(DISTINCT userId) as n_ThumpsUp \\\n",
    "    FROM data_1 WHERE page = 'Thumbs Up' GROUP BY churn\").toPandas()\n",
    "\n",
    "feature_thumps_up = spark.sql(\"SELECT DISTINCT(userId),count(1)/count(DISTINCT userId) AS n_Thumpsup \\\n",
    "    FROM data_1 WHERE page = 'Thumbs Up' GROUP BY userId\");\n",
    "\n",
    "\n",
    "\n",
    "feature_thumps_up.createOrReplaceTempView('feature_thumps_up');"
   ]
  },
  {
   "cell_type": "markdown",
   "metadata": {},
   "source": [
    "### Visualization: For Thumbs Up"
   ]
  },
  {
   "cell_type": "code",
   "execution_count": 108,
   "metadata": {},
   "outputs": [
    {
     "data": {
      "image/png": "[encoded data removed]",
      "text/plain": [
       "<matplotlib.figure.Figure at 0x7fb3c98d59b0>"
      ]
     },
     "metadata": {
      "needs_background": "light"
     },
     "output_type": "display_data"
    }
   ],
   "source": [
    "plt.title(\"Distribution of feture Thumbs Up vs Target [Churn]\");\n",
    "sns.barplot(x=\"churn\", y=\"n_ThumpsUp\", data=feature_thumps_up_vs);\n",
    "plt.show();"
   ]
  },
  {
   "cell_type": "markdown",
   "metadata": {},
   "source": [
    "### Feature 10: request_help\n",
    "\n",
    "Users who request for help are churning less compared to user who does not ask for help that makes sense so will consider this feature in our model."
   ]
  },
  {
   "cell_type": "code",
   "execution_count": 21,
   "metadata": {},
   "outputs": [
    {
     "name": "stdout",
     "output_type": "stream",
     "text": [
      "+-----+-----------------+\n",
      "|churn|             help|\n",
      "+-----+-----------------+\n",
      "|    0|8.154362416107382|\n",
      "|    1|5.558139534883721|\n",
      "+-----+-----------------+\n",
      "\n"
     ]
    }
   ],
   "source": [
    "spark.sql(\"SELECT churn,count(1)/count(DISTINCT userId) As help FROM data_1 WHERE page ='Help' GROUP BY churn\").show();\n",
    "help_vs=spark.sql(\"SELECT churn,count(1)/count(DISTINCT userId) As help FROM data_1 WHERE page ='Help' GROUP BY churn\").toPandas();\n",
    "feature_help=spark.sql(\"SELECT DISTINCT(userId),count(1)/count(DISTINCT userId) AS help FROM data_1\\\n",
    "                        WHERE page ='Help' GROUP BY userId\");\n",
    "\n",
    "feature_help.createOrReplaceTempView('feature_help');"
   ]
  },
  {
   "cell_type": "markdown",
   "metadata": {},
   "source": [
    "### Visualization: For feature_help"
   ]
  },
  {
   "cell_type": "code",
   "execution_count": 91,
   "metadata": {},
   "outputs": [
    {
     "data": {
      "image/png": "[encoded data removed]",
      "text/plain": [
       "<matplotlib.figure.Figure at 0x7fb3cb474438>"
      ]
     },
     "metadata": {
      "needs_background": "light"
     },
     "output_type": "display_data"
    }
   ],
   "source": [
    "\n",
    "plt.title(\"Distribution of feature_help vs Target [Churn]\");\n",
    "sns.barplot(x=\"churn\", y=\"help\", data=help_vs);\n",
    "plt.show();"
   ]
  },
  {
   "cell_type": "markdown",
   "metadata": {},
   "source": [
    "## Let's create a new table with all the Features we considered by above exploration"
   ]
  },
  {
   "cell_type": "code",
   "execution_count": 22,
   "metadata": {},
   "outputs": [
    {
     "name": "stdout",
     "output_type": "stream",
     "text": [
      "+-----+----------+\n",
      "|label|Class_dist|\n",
      "+-----+----------+\n",
      "|    0|       173|\n",
      "|    1|        52|\n",
      "+-----+----------+\n",
      "\n"
     ]
    }
   ],
   "source": [
    "feature_table = spark.sql(\"SELECT a.userId,b.Playlist,c.usageTime,\\\n",
    "                            d.Downgrade,e.help,f.friends,g.level_paid,k.n_Thumpsup,h.level_free,\\\n",
    "                            i.avg_no_sessions,j.gender_dummy,a.churn as label FROM data_1 as a\\\n",
    "                            LEFT OUTER JOIN feature_add_Playlist as b\\\n",
    "                            ON a.userId=b.userId \\\n",
    "                            LEFT OUTER JOIN feature_usage_time as c\\\n",
    "                            ON b.userId = c.userId\\\n",
    "                            LEFT OUTER JOIN feature_Downgrade as d\\\n",
    "                            ON c.userId=d.userId\\\n",
    "                            LEFT OUTER JOIN feature_help as e\\\n",
    "                            ON d.userId=e.userId\\\n",
    "                            LEFT OUTER JOIN feature_friends as f\\\n",
    "                            ON e.userId=f.userId\\\n",
    "                            LEFT OUTER JOIN feature_level_paid as g\\\n",
    "                            ON f.userId=g.userId\\\n",
    "                            LEFT OUTER JOIN feature_level_free as h\\\n",
    "                            ON g.userId=h.userId\\\n",
    "                            LEFT OUTER JOIN feature_avg_no_sessions as i\\\n",
    "                            ON h.userId=i.userId\\\n",
    "                            LEFT OUTER JOIN feature_gender j\\\n",
    "                            on i.userId=j.userId\\\n",
    "                            LEFT OUTER JOIN feature_thumps_up k\\\n",
    "                            on j.userId=k.userId\");\n",
    "\n",
    "feature_table.createOrReplaceTempView('feature_table')\n",
    "\n",
    "#check distribution of class looks fine or not?\n",
    "spark.sql(\"select label,count(distinct userId) as Class_dist from feature_table group by label\").show()"
   ]
  },
  {
   "cell_type": "code",
   "execution_count": 24,
   "metadata": {},
   "outputs": [
    {
     "data": {
      "text/plain": [
       "userId                 0\n",
       "Playlist             464\n",
       "usageTime            464\n",
       "Downgrade          17438\n",
       "help               19079\n",
       "friends            19079\n",
       "level_paid         19079\n",
       "n_Thumpsup         55387\n",
       "level_free         55387\n",
       "avg_no_sessions    55387\n",
       "gender_dummy       55387\n",
       "label                  0\n",
       "dtype: int64"
      ]
     },
     "execution_count": 24,
     "metadata": {},
     "output_type": "execute_result"
    }
   ],
   "source": [
    "feature_table.toPandas().isnull().sum()"
   ]
  },
  {
   "cell_type": "code",
   "execution_count": 23,
   "metadata": {},
   "outputs": [],
   "source": [
    "#check in case if any Null values will be present.\n",
    "#impute them with zero(0) for all except gender because we it will wrong imputation so we will keep value as 2 for all null treating it differently in model.\n",
    "\n",
    "selected_feature_table = spark.sql(\"SELECT nvl(userId,0) as userId,nvl(Playlist,0) as Playlist,nvl(usageTime,0) as usageTime,\\\n",
    "        nvl(Downgrade,0) as Downgrade,nvl(help,0) as help,nvl(friends,0) as friends,nvl(level_paid,0) as level_paid,\\\n",
    "        nvl(level_free,0) as level_free,nvl(avg_no_sessions,0) as avg_no_sessions,nvl(gender_dummy,2) as gender, nvl(n_Thumpsup,0) as n_Thumpsup, nvl(label,0) as label  FROM\\\n",
    "        feature_table\");\n",
    "\n",
    "#crate master_feature_table\n",
    "selected_feature_table.createOrReplaceTempView('selected_feature_table');"
   ]
  },
  {
   "cell_type": "markdown",
   "metadata": {},
   "source": [
    "#### cross checked to make sure there is no missing value present "
   ]
  },
  {
   "cell_type": "code",
   "execution_count": 24,
   "metadata": {},
   "outputs": [
    {
     "data": {
      "text/plain": [
       "userId             0\n",
       "Playlist           0\n",
       "usageTime          0\n",
       "Downgrade          0\n",
       "help               0\n",
       "friends            0\n",
       "level_paid         0\n",
       "level_free         0\n",
       "avg_no_sessions    0\n",
       "gender             0\n",
       "n_Thumpsup         0\n",
       "label              0\n",
       "dtype: int64"
      ]
     },
     "execution_count": 24,
     "metadata": {},
     "output_type": "execute_result"
    }
   ],
   "source": [
    "selected_feature_table.toPandas().isnull().sum()"
   ]
  },
  {
   "cell_type": "markdown",
   "metadata": {},
   "source": [
    "### Correlation between the all selected attributes"
   ]
  },
  {
   "cell_type": "code",
   "execution_count": 32,
   "metadata": {},
   "outputs": [
    {
     "data": {
      "text/plain": [
       "<matplotlib.axes._subplots.AxesSubplot at 0x7f48b1615d30>"
      ]
     },
     "execution_count": 32,
     "metadata": {},
     "output_type": "execute_result"
    },
    {
     "data": {
      "image/png": "[encoded data removed]",
      "text/plain": [
       "<matplotlib.figure.Figure at 0x7f48b1615d68>"
      ]
     },
     "metadata": {
      "needs_background": "light"
     },
     "output_type": "display_data"
    }
   ],
   "source": [
    "#corrmap = plt.cm.inferno\n",
    "plt.figure(figsize=(15,12))\n",
    "plt.title('Correlation between all the selected columns', y=1.05, size=15)\n",
    "sns.heatmap(selected_feature_table.toPandas().corr(),linewidths=0.1,vmax=1.0, \n",
    "            square=True, cmap=plt.cm.inferno, linecolor='white', annot=True)"
   ]
  },
  {
   "cell_type": "markdown",
   "metadata": {},
   "source": [
    "# Modeling\n",
    "Split the full dataset into train, test, and validation sets. Test out several of the machine learning methods you learned. Evaluate the accuracy of the various models, tuning parameters as necessary. Determine your winning model based on test accuracy and report results on the validation set. Since the churned users are a fairly small subset, I suggest using F1 score as the metric to optimize."
   ]
  },
  {
   "cell_type": "markdown",
   "metadata": {},
   "source": [
    "\n",
    "#### Preparing data and to push to the model Lets use VectorAssembler which is transformer that combines a given list of columns into a single vector column\n",
    "\n",
    "Here we will going to implement logistic regression and RandomForest classifer and see how these model perform. Since the churned users are a fairly small subset, we using F1 score as the metric to optimize."
   ]
  },
  {
   "cell_type": "code",
   "execution_count": 24,
   "metadata": {},
   "outputs": [],
   "source": [
    "#create VectorAssembler to push data to ML models\n",
    "assembler = VectorAssembler(inputCols=[\"Playlist\",\"usageTime\",\"Downgrade\",\"help\",\\\n",
    "                                       \"friends\",\"level_paid\",\"level_free\",\"avg_no_sessions\",\"gender\",\"n_Thumpsup\"],\\\n",
    "                            outputCol=\"inputFeatures\")\n",
    "\n",
    "#Lets normalize data\n",
    "scaler = Normalizer(inputCol=\"inputFeatures\", outputCol=\"ScaledFeatures\");"
   ]
  },
  {
   "cell_type": "code",
   "execution_count": 25,
   "metadata": {},
   "outputs": [],
   "source": [
    "#elasticNetParam corresponds to α and regParam corresponds to λ.\n",
    "model_lr = LogisticRegression(featuresCol=\"ScaledFeatures\", labelCol=\"label\", maxIter=10, regParam=0.01)\n",
    "model_rf = RandomForestClassifier(featuresCol=\"ScaledFeatures\", labelCol=\"label\")\n",
    "model_gbt = GBTClassifier(featuresCol=\"ScaledFeatures\", labelCol=\"label\")"
   ]
  },
  {
   "cell_type": "code",
   "execution_count": 26,
   "metadata": {},
   "outputs": [],
   "source": [
    "#Create Pipeline\n",
    "pipeline_lr = Pipeline(stages=[assembler, scaler, model_lr]);\n",
    "pipeline_rf = Pipeline(stages=[assembler, scaler, model_rf]);\n",
    "pipeline_gbt = Pipeline(stages=[assembler, scaler, model_gbt])"
   ]
  },
  {
   "cell_type": "code",
   "execution_count": 27,
   "metadata": {},
   "outputs": [],
   "source": [
    "# spilt data for Train and test \n",
    "training, test = selected_feature_table.randomSplit([0.8, 0.2]);"
   ]
  },
  {
   "cell_type": "code",
   "execution_count": 34,
   "metadata": {},
   "outputs": [
    {
     "data": {
      "text/plain": [
       "(223106, 12)"
      ]
     },
     "execution_count": 34,
     "metadata": {},
     "output_type": "execute_result"
    }
   ],
   "source": [
    "training.toPandas().shape\n"
   ]
  },
  {
   "cell_type": "code",
   "execution_count": 28,
   "metadata": {},
   "outputs": [
    {
     "name": "stdout",
     "output_type": "stream",
     "text": [
      "Total exicute time:1579.7901146411896\n"
     ]
    }
   ],
   "source": [
    "#Fit the model\n",
    "import time\n",
    "\n",
    "start_time= time.time()\n",
    "\n",
    "model_lr_fitted = pipeline_lr.fit(training);\n",
    "model_rf_fitted = pipeline_rf.fit(training);\n",
    "model_gbt_fitted = pipeline_gbt.fit(training)\n",
    "\n",
    "end_time= time.time()\n",
    "\n",
    "print(\"Total exicute time:{}\".format(end_time-start_time))"
   ]
  },
  {
   "cell_type": "code",
   "execution_count": 35,
   "metadata": {},
   "outputs": [],
   "source": [
    "#Function which will calcualte Accuracy scores:\n",
    "def model_performance_accuracy(model, test_data, metric = 'accuracy'):\n",
    "    \"\"\" Calculate Model Scores using f1 metric \n",
    "        Input: \n",
    "            model- trained model or pipeline object\n",
    "            metric- the metric used to measure performance\n",
    "            data - data on which performance measurement should be done\n",
    "        Output:\n",
    "            score\n",
    "    \"\"\"\n",
    "    evaluator = MulticlassClassificationEvaluator(metricName = metric)\n",
    "    prediction_result = model.transform(test_data)\n",
    "    # find f1 score\n",
    "    score = evaluator.evaluate(prediction_result)\n",
    "    #return score\n",
    "    return score"
   ]
  },
  {
   "cell_type": "code",
   "execution_count": 36,
   "metadata": {},
   "outputs": [
    {
     "name": "stdout",
     "output_type": "stream",
     "text": [
      "Logistic Regression Classifier Accuracy:0.8430953322074095\n",
      "Random Forest  Classifier Accuracy:0.9638506593840958\n",
      "GBTClassifier  Classifier Accuracy:0.9915196377879191\n"
     ]
    }
   ],
   "source": [
    "#print both Model Testing F1-Score\n",
    "print(\"Logistic Regression Classifier Accuracy:{}\".format(model_performance_accuracy(model_lr_fitted, test)));\n",
    "print(\"Random Forest  Classifier Accuracy:{}\".format(model_performance_accuracy(model_rf_fitted, test)));\n",
    "print(\"GBTClassifier  Classifier Accuracy:{}\".format(model_performance_accuracy(model_gbt_fitted, test)));"
   ]
  },
  {
   "cell_type": "code",
   "execution_count": 37,
   "metadata": {},
   "outputs": [],
   "source": [
    "#Function which will calcualte f1 scores:\n",
    "def model_performance(model, test_data, metric = 'f1'):\n",
    "    \"\"\" Calculate Model Scores using f1 metric \n",
    "        Input: \n",
    "            model- trained model or pipeline object\n",
    "            metric- the metric used to measure performance\n",
    "            data - data on which performance measurement should be done\n",
    "        Output:\n",
    "            score\n",
    "    \"\"\"\n",
    "    evaluator = MulticlassClassificationEvaluator(metricName = metric)\n",
    "    prediction_result = model.transform(test_data)\n",
    "    # find f1 score\n",
    "    score = evaluator.evaluate(prediction_result)\n",
    "    #return score\n",
    "    return score"
   ]
  },
  {
   "cell_type": "code",
   "execution_count": 30,
   "metadata": {},
   "outputs": [
    {
     "name": "stdout",
     "output_type": "stream",
     "text": [
      "Logistic Regression Classifier F1-Score:0.7765470592259909\n",
      "Random Forest  Classifier F1-Score:0.9619697735890758\n",
      "GBTClassifier  Classifier F1-Score:0.9914322037770119\n"
     ]
    }
   ],
   "source": [
    "#print both Model Testing F1-Score\n",
    "print(\"Logistic Regression Classifier F1-Score:{}\".format(model_performance(model_lr_fitted, test)));\n",
    "print(\"Random Forest  Classifier F1-Score:{}\".format(model_performance(model_rf_fitted, test)));\n",
    "print(\"GBTClassifier  Classifier F1-Score:{}\".format(model_performance(model_gbt_fitted, test)));"
   ]
  },
  {
   "cell_type": "markdown",
   "metadata": {},
   "source": [
    "# Conclusion\n",
    "\n",
    "###  Summary\n",
    "\n",
    "\n",
    "In this notebook, i implemented a model to predict customer churn. In the process of Cleaning data, i removed rows with no userId, converted gender to binary numeric column. 10 features were built for our model. We selected 3 models: logistic regression, Random Forest and GBTClassifier to predict churn and finally we selected GBTClassifier as the final model implemented for predicting final result Because of it's good f1 Score. For Preparing data and to push to the model i used VectorAssembler which is transformer that combines a given list of columns into a single vector column. Since the churned users are a fairly small subset, we using F1 score as the metric to optimize.. \n",
    "\n",
    "### Reflections from this final project.\n",
    "\n",
    "\n",
    "This project given exposure to spark environment to analyze a large volume of data that a personal laptop may not be capable to analyze. By identifying customer with high chance to churn prior to the acutal losing, companies are able to use minimal cost to save customers by using targeted messages and offers.\n",
    "\n",
    "One of the interesting yet difficult things during the project is brainstroming the features that we can derived from the data we have on hand. Developing useful features is crucial to developing a good model, and requires a lot of energy and efforts. Explanatory and exploratory data analysis play important role in this process, Best part is i achived it by using my SQL Query skills.\n",
    "\n",
    "\n",
    "### To avoid churn in future, the following instrctioned need to be followed.\n",
    "\n",
    "\n",
    "Once we identified who will be going to churn with Prediction model we can then have to take some action to stopping them to getting churned by\n",
    "\n",
    "- Running some promotional offers for attracting this targeted users.\n",
    "- And finding out what is the root cause of those users not liking the Music app and improving those root cases. Ex: like UI changes, Price for the subscription etc... \n",
    "\n",
    "### Improvements\n",
    "\n",
    "\n",
    "The features can be improved a lot after considering more factors, adding more domain knowledges and expertise. Although the volume of data may required tools such as spark to analyze, but we can use more data to have better results as the user base grow.\n",
    "\n",
    "Currently, we have about 223106 records of unique users, and we only use 80% of them to train. That said, the model has a huge potential to improve if the sample size increase, and the expected performance will also increase.\n",
    "\n",
    "Since the churned users are a fairly small subset, we using F1 score as the metric to optimize."
   ]
  },
  {
   "cell_type": "markdown",
   "metadata": {},
   "source": [
    "# Final Steps\n",
    "Clean up your code, adding comments and renaming variables to make the code easier to read and maintain. Refer to the Spark Project Overview page and Data Scientist Capstone Project Rubric to make sure you are including all components of the capstone project and meet all expectations. Remember, this includes thorough documentation in a README file in a Github repository, as well as a web app or blog post."
   ]
  },
  {
   "cell_type": "code",
   "execution_count": null,
   "metadata": {},
   "outputs": [],
   "source": []
  }
 ],
 "metadata": {
  "kernelspec": {
   "display_name": "Python 3",
   "language": "python",
   "name": "python3"
  },
  "language_info": {
   "codemirror_mode": {
    "name": "ipython",
    "version": 3
   },
   "file_extension": ".py",
   "mimetype": "text/x-python",
   "name": "python",
   "nbconvert_exporter": "python",
   "pygments_lexer": "ipython3",
   "version": "3.6.3"
  }
 },
 "nbformat": 4,
 "nbformat_minor": 2
}
